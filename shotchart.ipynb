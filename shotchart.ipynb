{
 "cells": [
  {
   "cell_type": "code",
   "execution_count": 1,
   "metadata": {},
   "outputs": [],
   "source": [
    "import requests\n",
    "import pandas as pd"
   ]
  },
  {
   "cell_type": "markdown",
   "metadata": {},
   "source": [
    "Carico il Dataset (Load Dataset)\n",
    "Raccogliamo i dati della partita (we collect the shooting data for the game)"
   ]
  },
  {
   "cell_type": "code",
   "execution_count": 2,
   "metadata": {},
   "outputs": [
    {
     "name": "stdout",
     "output_type": "stream",
     "text": [
      "200\n"
     ]
    }
   ],
   "source": [
    "\n",
    "\n",
    "url = \"https://live.euroleague.net/api/Points?gamecode=139&seasoncode=E2021\"\n",
    "r = requests.get(url)\n",
    "print(r.status_code)  \n",
    "data = r.json()\n",
    "shots_df = pd.DataFrame(data['Rows'])"
   ]
  },
  {
   "cell_type": "markdown",
   "metadata": {},
   "source": [
    "Se è andata a buon fine mi deve tornare 200 (if all goes well this must return 200)"
   ]
  },
  {
   "cell_type": "markdown",
   "metadata": {},
   "source": [
    "Mostra l'anteprima del dataset (Show DataSet Preview)"
   ]
  },
  {
   "cell_type": "code",
   "execution_count": 3,
   "metadata": {},
   "outputs": [
    {
     "data": {
      "text/html": [
       "<div>\n",
       "<style scoped>\n",
       "    .dataframe tbody tr th:only-of-type {\n",
       "        vertical-align: middle;\n",
       "    }\n",
       "\n",
       "    .dataframe tbody tr th {\n",
       "        vertical-align: top;\n",
       "    }\n",
       "\n",
       "    .dataframe thead th {\n",
       "        text-align: right;\n",
       "    }\n",
       "</style>\n",
       "<table border=\"1\" class=\"dataframe\">\n",
       "  <thead>\n",
       "    <tr style=\"text-align: right;\">\n",
       "      <th></th>\n",
       "      <th>NUM_ANOT</th>\n",
       "      <th>TEAM</th>\n",
       "      <th>ID_PLAYER</th>\n",
       "      <th>PLAYER</th>\n",
       "      <th>ID_ACTION</th>\n",
       "      <th>ACTION</th>\n",
       "      <th>POINTS</th>\n",
       "      <th>COORD_X</th>\n",
       "      <th>COORD_Y</th>\n",
       "      <th>ZONE</th>\n",
       "      <th>FASTBREAK</th>\n",
       "      <th>SECOND_CHANCE</th>\n",
       "      <th>POINTS_OFF_TURNOVER</th>\n",
       "      <th>MINUTE</th>\n",
       "      <th>CONSOLE</th>\n",
       "      <th>POINTS_A</th>\n",
       "      <th>POINTS_B</th>\n",
       "      <th>UTC</th>\n",
       "    </tr>\n",
       "  </thead>\n",
       "  <tbody>\n",
       "    <tr>\n",
       "      <th>0</th>\n",
       "      <td>6</td>\n",
       "      <td>MAD</td>\n",
       "      <td>P007982</td>\n",
       "      <td>WILLIAMS-GOSS, NIGEL</td>\n",
       "      <td>3FGM</td>\n",
       "      <td>Three Pointer</td>\n",
       "      <td>3</td>\n",
       "      <td>-31</td>\n",
       "      <td>759</td>\n",
       "      <td>H</td>\n",
       "      <td>0</td>\n",
       "      <td>0</td>\n",
       "      <td>0</td>\n",
       "      <td>1</td>\n",
       "      <td>09:32</td>\n",
       "      <td>0</td>\n",
       "      <td>3</td>\n",
       "      <td>20211216193052</td>\n",
       "    </tr>\n",
       "    <tr>\n",
       "      <th>1</th>\n",
       "      <td>7</td>\n",
       "      <td>MIL</td>\n",
       "      <td>P004331</td>\n",
       "      <td>DELANEY, MALCOLM</td>\n",
       "      <td>3FGA</td>\n",
       "      <td>Missed Three Pointer</td>\n",
       "      <td>0</td>\n",
       "      <td>169</td>\n",
       "      <td>696</td>\n",
       "      <td>I</td>\n",
       "      <td>0</td>\n",
       "      <td>0</td>\n",
       "      <td>0</td>\n",
       "      <td>1</td>\n",
       "      <td>09:13</td>\n",
       "      <td>0</td>\n",
       "      <td>3</td>\n",
       "      <td>20211216193111</td>\n",
       "    </tr>\n",
       "    <tr>\n",
       "      <th>2</th>\n",
       "      <td>9</td>\n",
       "      <td>MAD</td>\n",
       "      <td>P001392</td>\n",
       "      <td>CAUSEUR, FABIEN</td>\n",
       "      <td>2FGM</td>\n",
       "      <td>Two Pointer</td>\n",
       "      <td>2</td>\n",
       "      <td>69</td>\n",
       "      <td>81</td>\n",
       "      <td>C</td>\n",
       "      <td>1</td>\n",
       "      <td>0</td>\n",
       "      <td>0</td>\n",
       "      <td>1</td>\n",
       "      <td>09:07</td>\n",
       "      <td>0</td>\n",
       "      <td>5</td>\n",
       "      <td>20211216193118</td>\n",
       "    </tr>\n",
       "    <tr>\n",
       "      <th>3</th>\n",
       "      <td>12</td>\n",
       "      <td>MIL</td>\n",
       "      <td>P002812</td>\n",
       "      <td>HINES, KYLE</td>\n",
       "      <td>2FGA</td>\n",
       "      <td>Missed Two Pointer</td>\n",
       "      <td>0</td>\n",
       "      <td>495</td>\n",
       "      <td>169</td>\n",
       "      <td>G</td>\n",
       "      <td>0</td>\n",
       "      <td>0</td>\n",
       "      <td>0</td>\n",
       "      <td>2</td>\n",
       "      <td>08:39</td>\n",
       "      <td>0</td>\n",
       "      <td>5</td>\n",
       "      <td>20211216193146</td>\n",
       "    </tr>\n",
       "    <tr>\n",
       "      <th>4</th>\n",
       "      <td>19</td>\n",
       "      <td>MIL</td>\n",
       "      <td>P007831</td>\n",
       "      <td>SHIELDS, SHAVON</td>\n",
       "      <td>2FGM</td>\n",
       "      <td>Two Pointer</td>\n",
       "      <td>2</td>\n",
       "      <td>-56</td>\n",
       "      <td>225</td>\n",
       "      <td>D</td>\n",
       "      <td>0</td>\n",
       "      <td>0</td>\n",
       "      <td>1</td>\n",
       "      <td>2</td>\n",
       "      <td>08:13</td>\n",
       "      <td>2</td>\n",
       "      <td>5</td>\n",
       "      <td>20211216193257</td>\n",
       "    </tr>\n",
       "  </tbody>\n",
       "</table>\n",
       "</div>"
      ],
      "text/plain": [
       "   NUM_ANOT        TEAM   ID_PLAYER                PLAYER ID_ACTION  \\\n",
       "0         6  MAD         P007982     WILLIAMS-GOSS, NIGEL      3FGM   \n",
       "1         7  MIL         P004331         DELANEY, MALCOLM      3FGA   \n",
       "2         9  MAD         P001392          CAUSEUR, FABIEN      2FGM   \n",
       "3        12  MIL         P002812              HINES, KYLE      2FGA   \n",
       "4        19  MIL         P007831          SHIELDS, SHAVON      2FGM   \n",
       "\n",
       "                 ACTION  POINTS  COORD_X  COORD_Y ZONE FASTBREAK  \\\n",
       "0         Three Pointer       3      -31      759    H         0   \n",
       "1  Missed Three Pointer       0      169      696    I         0   \n",
       "2           Two Pointer       2       69       81    C         1   \n",
       "3    Missed Two Pointer       0      495      169    G         0   \n",
       "4           Two Pointer       2      -56      225    D         0   \n",
       "\n",
       "  SECOND_CHANCE POINTS_OFF_TURNOVER  MINUTE CONSOLE  POINTS_A  POINTS_B  \\\n",
       "0             0                   0       1   09:32         0         3   \n",
       "1             0                   0       1   09:13         0         3   \n",
       "2             0                   0       1   09:07         0         5   \n",
       "3             0                   0       2   08:39         0         5   \n",
       "4             0                   1       2   08:13         2         5   \n",
       "\n",
       "              UTC  \n",
       "0  20211216193052  \n",
       "1  20211216193111  \n",
       "2  20211216193118  \n",
       "3  20211216193146  \n",
       "4  20211216193257  "
      ]
     },
     "execution_count": 3,
     "metadata": {},
     "output_type": "execute_result"
    }
   ],
   "source": [
    "shots_df.head()\n"
   ]
  },
  {
   "cell_type": "code",
   "execution_count": 4,
   "metadata": {},
   "outputs": [],
   "source": [
    "# Disegnamo un campo da basket FIBA usando matplot (Draw a FIBA basketball court using matplot)\n",
    "\n",
    "from matplotlib import pyplot as plt\n",
    "from matplotlib.patches import Circle, Rectangle, Arc\n",
    "\n",
    "\n",
    "def draw_court(ax=None, color='black', lw=1, outer_lines=True):\n",
    "    \"\"\"\n",
    "    FIBA basketball court dimensions:\n",
    "    https://www.msfsports.com.au/basketball-court-dimensions/\n",
    "    It seems like the Euroleauge API returns the shooting positions\n",
    "    in resolution of 1cm x 1cm.\n",
    "    \"\"\"\n",
    "    # If an axes object isn't provided to plot onto, just get current one\n",
    "    if ax is None:\n",
    "        ax = plt.gca()\n",
    "\n",
    "    # Create the various parts of an NBA basketball court\n",
    "\n",
    "    # Create the basketball hoop\n",
    "    # Diameter of a hoop is 45.72cm so it has a radius 45.72/2 cms\n",
    "    hoop = Circle((0, 0), radius=45.72 / 2, linewidth=lw, color=color,\n",
    "                  fill=False)\n",
    "\n",
    "    # Create backboard\n",
    "    backboard = Rectangle((-90, -157.5 + 120), 180, -1, linewidth=lw,\n",
    "                          color=color)\n",
    "\n",
    "    # The paint\n",
    "    # Create the outer box of the paint\n",
    "    outer_box = Rectangle((-490 / 2, -157.5), 490, 580, linewidth=lw,\n",
    "                          color=color, fill=False)\n",
    "    # Create the inner box of the paint, widt=12ft, height=19ft\n",
    "    inner_box = Rectangle((-360 / 2, -157.5), 360, 580, linewidth=lw,\n",
    "                          color=color, fill=False)\n",
    "\n",
    "    # Create free throw top arc\n",
    "    top_free_throw = Arc((0, 580 - 157.5), 360, 360, theta1=0, theta2=180,\n",
    "                         linewidth=lw, color=color, fill=False)\n",
    "    # Create free throw bottom arc\n",
    "    bottom_free_throw = Arc((0, 580 - 157.5), 360, 360, theta1=180, theta2=0,\n",
    "                            linewidth=lw, color=color, linestyle='dashed')\n",
    "    # Restricted Zone, it is an arc with 4ft radius from center of the hoop\n",
    "    restricted = Arc((0, 0), 2 * 125, 2 * 125, theta1=0, theta2=180,\n",
    "                     linewidth=lw, color=color)\n",
    "\n",
    "    # Three point line\n",
    "    # Create the side 3pt lines\n",
    "    corner_three_a = Rectangle((-750 + 90, -157.5), 0, 305, linewidth=lw,\n",
    "                               color=color)\n",
    "    corner_three_b = Rectangle((750 - 90, -157.5), 0, 305, linewidth=lw,\n",
    "                               color=color)\n",
    "    # 3pt arc - center of arc will be the hoop, arc is 23'9\" away from hoop\n",
    "    # I just played around with the theta values until they lined up with the\n",
    "    # threes\n",
    "    three_arc = Arc((0, 0), 2 * 675, 2 * 675, theta1=12, theta2=167.5,\n",
    "                    linewidth=lw, color=color)\n",
    "\n",
    "    # Center Court\n",
    "    center_outer_arc = Arc((0, 1400-157.5), 2 * 180, 2 * 180, theta1=180,\n",
    "                           theta2=0, linewidth=lw, color=color)\n",
    "\n",
    "    # List of the court elements to be plotted onto the axes\n",
    "    court_elements = [hoop, backboard, outer_box, inner_box,\n",
    "                      restricted, top_free_throw, bottom_free_throw,\n",
    "                      corner_three_a, corner_three_b, three_arc,\n",
    "                      center_outer_arc]\n",
    "    if outer_lines:\n",
    "        # Draw the half court line, baseline and side out bound lines\n",
    "        outer_lines = Rectangle((-750, -157.5), 1500, 1400, linewidth=lw,\n",
    "                                color=color, fill=False)\n",
    "        court_elements.append(outer_lines)\n",
    "\n",
    "    # Add the court elements onto the axes\n",
    "    for element in court_elements:\n",
    "        ax.add_patch(element)\n",
    "\n",
    "    return ax"
   ]
  },
  {
   "cell_type": "code",
   "execution_count": 5,
   "metadata": {},
   "outputs": [],
   "source": [
    "#The shot charts\n",
    "\n",
    "import matplotlib.pyplot as plt\n",
    "import seaborn as sns\n",
    "\n",
    "\n",
    "def plot_scatter(made, miss, title=None):\n",
    "    \"\"\"\n",
    "    Scatter plot of made and missed shots\n",
    "    \"\"\"\n",
    "    plt.figure(figsize=(5, 4.7))\n",
    "    draw_court()\n",
    "    plt.plot(made['COORD_X'], made['COORD_Y'], 'o', label='Made')\n",
    "    plt.plot(miss['COORD_X'], miss['COORD_Y'], 'x', markerfacecolor='none',\n",
    "             label='Missed')\n",
    "    plt.legend()\n",
    "    plt.xlim([-800, 800])\n",
    "    plt.ylim([-200, 1300])\n",
    "    plt.title(title)\n",
    "    plt.show()\n",
    "    return\n",
    "\n",
    "\n",
    "def joint_plot(df, kind='hex', title=None):\n",
    "    \"\"\"\n",
    "    Density plot of shots as joint distributions of x and y coordinates\n",
    "    \"\"\"\n",
    "    cmap = plt.cm.gist_heat_r\n",
    "    joint_shot_chart = sns.jointplot(x=df['COORD_X'], y=df['COORD_Y'],\n",
    "                                     kind='hex', space=0, color=cmap(.2),\n",
    "                                     cmap=cmap, joint_kws={\"gridsize\": 15})\n",
    "\n",
    "    # A joint plot has 3 Axes, the first one called ax_joint\n",
    "    # is the one we want to draw our court onto\n",
    "    ax = joint_shot_chart.ax_joint\n",
    "    draw_court(ax)\n",
    "    plt.xlim([-800, 800])\n",
    "    plt.ylim([-200, 1300])\n",
    "    plt.title(title)\n",
    "    plt.show()\n",
    "    return"
   ]
  },
  {
   "cell_type": "code",
   "execution_count": 6,
   "metadata": {},
   "outputs": [
    {
     "ename": "AttributeError",
     "evalue": "'DataFrame' object has no attribute 'original_x'",
     "output_type": "error",
     "traceback": [
      "\u001b[1;31m---------------------------------------------------------------------------\u001b[0m",
      "\u001b[1;31mAttributeError\u001b[0m                            Traceback (most recent call last)",
      "\u001b[1;32m<ipython-input-6-52a8f7a75da5>\u001b[0m in \u001b[0;36m<module>\u001b[1;34m\u001b[0m\n\u001b[0;32m      1\u001b[0m \u001b[0mplt\u001b[0m\u001b[1;33m.\u001b[0m\u001b[0mfigure\u001b[0m\u001b[1;33m(\u001b[0m\u001b[0mfigsize\u001b[0m\u001b[1;33m=\u001b[0m\u001b[1;33m(\u001b[0m\u001b[1;36m5\u001b[0m\u001b[1;33m,\u001b[0m \u001b[1;36m4.7\u001b[0m\u001b[1;33m)\u001b[0m\u001b[1;33m)\u001b[0m\u001b[1;33m\u001b[0m\u001b[1;33m\u001b[0m\u001b[0m\n\u001b[1;32m----> 2\u001b[1;33m \u001b[0mplt\u001b[0m\u001b[1;33m.\u001b[0m\u001b[0mscatter\u001b[0m\u001b[1;33m(\u001b[0m\u001b[0mshots_df\u001b[0m\u001b[1;33m.\u001b[0m\u001b[0moriginal_x\u001b[0m\u001b[1;33m,\u001b[0m \u001b[0mshots_df\u001b[0m\u001b[1;33m.\u001b[0m\u001b[0moriginal_y\u001b[0m\u001b[1;33m,\u001b[0m \u001b[0mc\u001b[0m\u001b[1;33m=\u001b[0m\u001b[0mshots_df\u001b[0m\u001b[1;33m.\u001b[0m\u001b[0mshot_made\u001b[0m\u001b[1;33m,\u001b[0m \u001b[0mcmap\u001b[0m\u001b[1;33m=\u001b[0m\u001b[1;34m'coolwarm_r'\u001b[0m\u001b[1;33m)\u001b[0m\u001b[1;33m\u001b[0m\u001b[1;33m\u001b[0m\u001b[0m\n\u001b[0m\u001b[0;32m      3\u001b[0m \u001b[0mdraw_court\u001b[0m\u001b[1;33m(\u001b[0m\u001b[0mouter_lines\u001b[0m\u001b[1;33m=\u001b[0m\u001b[1;32mFalse\u001b[0m\u001b[1;33m)\u001b[0m\u001b[1;33m\u001b[0m\u001b[1;33m\u001b[0m\u001b[0m\n\u001b[0;32m      4\u001b[0m \u001b[0mcur_axes\u001b[0m \u001b[1;33m=\u001b[0m \u001b[0mplt\u001b[0m\u001b[1;33m.\u001b[0m\u001b[0mgca\u001b[0m\u001b[1;33m(\u001b[0m\u001b[1;33m)\u001b[0m\u001b[1;33m\u001b[0m\u001b[1;33m\u001b[0m\u001b[0m\n\u001b[0;32m      5\u001b[0m \u001b[0mcur_axes\u001b[0m\u001b[1;33m.\u001b[0m\u001b[0maxes\u001b[0m\u001b[1;33m.\u001b[0m\u001b[0mget_xaxis\u001b[0m\u001b[1;33m(\u001b[0m\u001b[1;33m)\u001b[0m\u001b[1;33m.\u001b[0m\u001b[0mset_visible\u001b[0m\u001b[1;33m(\u001b[0m\u001b[1;32mFalse\u001b[0m\u001b[1;33m)\u001b[0m\u001b[1;33m\u001b[0m\u001b[1;33m\u001b[0m\u001b[0m\n",
      "\u001b[1;32mc:\\Users\\Mario\\AppData\\Local\\Programs\\PythonCodingPack\\lib\\site-packages\\pandas\\core\\generic.py\u001b[0m in \u001b[0;36m__getattr__\u001b[1;34m(self, name)\u001b[0m\n\u001b[0;32m   5128\u001b[0m             \u001b[1;32mif\u001b[0m \u001b[0mself\u001b[0m\u001b[1;33m.\u001b[0m\u001b[0m_info_axis\u001b[0m\u001b[1;33m.\u001b[0m\u001b[0m_can_hold_identifiers_and_holds_name\u001b[0m\u001b[1;33m(\u001b[0m\u001b[0mname\u001b[0m\u001b[1;33m)\u001b[0m\u001b[1;33m:\u001b[0m\u001b[1;33m\u001b[0m\u001b[1;33m\u001b[0m\u001b[0m\n\u001b[0;32m   5129\u001b[0m                 \u001b[1;32mreturn\u001b[0m \u001b[0mself\u001b[0m\u001b[1;33m[\u001b[0m\u001b[0mname\u001b[0m\u001b[1;33m]\u001b[0m\u001b[1;33m\u001b[0m\u001b[1;33m\u001b[0m\u001b[0m\n\u001b[1;32m-> 5130\u001b[1;33m             \u001b[1;32mreturn\u001b[0m \u001b[0mobject\u001b[0m\u001b[1;33m.\u001b[0m\u001b[0m__getattribute__\u001b[0m\u001b[1;33m(\u001b[0m\u001b[0mself\u001b[0m\u001b[1;33m,\u001b[0m \u001b[0mname\u001b[0m\u001b[1;33m)\u001b[0m\u001b[1;33m\u001b[0m\u001b[1;33m\u001b[0m\u001b[0m\n\u001b[0m\u001b[0;32m   5131\u001b[0m \u001b[1;33m\u001b[0m\u001b[0m\n\u001b[0;32m   5132\u001b[0m     \u001b[1;32mdef\u001b[0m \u001b[0m__setattr__\u001b[0m\u001b[1;33m(\u001b[0m\u001b[0mself\u001b[0m\u001b[1;33m,\u001b[0m \u001b[0mname\u001b[0m\u001b[1;33m:\u001b[0m \u001b[0mstr\u001b[0m\u001b[1;33m,\u001b[0m \u001b[0mvalue\u001b[0m\u001b[1;33m)\u001b[0m \u001b[1;33m->\u001b[0m \u001b[1;32mNone\u001b[0m\u001b[1;33m:\u001b[0m\u001b[1;33m\u001b[0m\u001b[1;33m\u001b[0m\u001b[0m\n",
      "\u001b[1;31mAttributeError\u001b[0m: 'DataFrame' object has no attribute 'original_x'"
     ]
    },
    {
     "data": {
      "text/plain": [
       "<Figure size 360x338.4 with 0 Axes>"
      ]
     },
     "metadata": {},
     "output_type": "display_data"
    }
   ],
   "source": [
    "plt.figure(figsize=(5, 4.7))\n",
    "plt.scatter(shots_df.original_x, shots_df.original_y, c=shots_df.shot_made, cmap='coolwarm_r')\n",
    "draw_court(outer_lines=False)\n",
    "cur_axes = plt.gca()\n",
    "cur_axes.axes.get_xaxis().set_visible(False)\n",
    "cur_axes.axes.get_yaxis().set_visible(False)\n",
    "plt.show()"
   ]
  },
  {
   "cell_type": "code",
   "execution_count": 7,
   "metadata": {},
   "outputs": [
    {
     "data": {
      "image/png": "[encoded data removed]",
      "text/plain": [
       "<Figure size 432x432 with 3 Axes>"
      ]
     },
     "metadata": {
      "needs_background": "light"
     },
     "output_type": "display_data"
    }
   ],
   "source": [
    "shots_df['TEAM'] = shots_df['TEAM'].str.strip()  # team id contains trailing white space\n",
    "shots_df['ID_PLAYER'] = shots_df['ID_PLAYER'].str.strip()  # player id contains trailing white space\n",
    "\n",
    "# split the home and away teams, their made and missed shots\n",
    "home_df = shots_df[shots_df['TEAM'] == 'MIL']\n",
    "fg_made_home_df = home_df[home_df['ID_ACTION'].isin(['2FGM', '3FGM'])]\n",
    "fg_miss_home_df = home_df[home_df['ID_ACTION'].isin(['2FGA', '3FGA'])]\n",
    "\n",
    "away_df = shots_df[shots_df['TEAM'] == 'MAD']\n",
    "fg_made_away_df = away_df[away_df['ID_ACTION'].isin(['2FGM', '3FGM'])]\n",
    "fg_miss_away_df = away_df[away_df['ID_ACTION'].isin(['2FGA', '3FGA'])]\n",
    "\n",
    "# scatter shot chart of MILs\n",
    "#plot_scatter(fg_made_home_df, fg_miss_home_df, title='MIL')\n",
    "\n",
    "# scatter shot chart of MAD\n",
    "#plot_scatter(fg_made_away_df, fg_miss_away_df, title='MAD')\n",
    "\n",
    "# density plot of all MIL's shots (made and missed) , axis=0\n",
    "#fg_home_shots = pd.concat((fg_made_home_df, fg_miss_home_df))\n",
    "#joint_plot(fg_home_shots, title='MILs Attemped Shots (made and missed)')\n",
    "\n",
    "\n",
    "fg_away_shots = pd.concat((fg_made_away_df, fg_miss_away_df), axis=0)\n",
    "joint_plot(fg_away_shots, title='MADs Attemped Shots (made and missed)')\n"
   ]
  },
  {
   "cell_type": "code",
   "execution_count": 9,
   "metadata": {},
   "outputs": [
    {
     "data": {
      "image/png": "[encoded data removed]",
      "text/plain": [
       "<Figure size 432x432 with 3 Axes>"
      ]
     },
     "metadata": {
      "needs_background": "light"
     },
     "output_type": "display_data"
    }
   ],
   "source": [
    "shots_df['TEAM'] = shots_df['TEAM'].str.strip()  # team id contains trailing white space\n",
    "shots_df['ID_PLAYER'] = shots_df['ID_PLAYER'].str.strip()  # player id contains trailing white space\n",
    "\n",
    "# split the home and away teams, their made and missed shots\n",
    "Datome = shots_df[shots_df['PLAYER'] == 'CAUSEUR, FABIEN']\n",
    "Datome_made = Datome[Datome['ID_ACTION'].isin(['2FGM', '3FGM'])]\n",
    "len(Datome_made)\n",
    "Datome_miss = Datome[Datome['ID_ACTION'].isin(['2FGA', '3FGA'])]\n",
    "len(Datome_miss)\n",
    "Datome_shots = pd.concat((Datome_made, Datome_miss), axis=0)\n",
    "joint_plot(Datome_shots)"
   ]
  }
 ],
 "metadata": {
  "kernelspec": {
   "display_name": "Python 3.8.5 64-bit",
   "language": "python",
   "name": "python3"
  },
  "language_info": {
   "codemirror_mode": {
    "name": "ipython",
    "version": 3
   },
   "file_extension": ".py",
   "mimetype": "text/x-python",
   "name": "python",
   "nbconvert_exporter": "python",
   "pygments_lexer": "ipython3",
   "version": "3.8.5"
  },
  "orig_nbformat": 4,
  "vscode": {
   "interpreter": {
    "hash": "ad77771add2c6521a9c58305fe4e03ccddeeb1fe739e6aac815f1fb97839e098"
   }
  }
 },
 "nbformat": 4,
 "nbformat_minor": 2
}
