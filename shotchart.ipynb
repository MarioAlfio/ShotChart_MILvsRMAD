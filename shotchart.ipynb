{
 "cells": [
  {
   "cell_type": "code",
   "execution_count": 57,
   "metadata": {},
   "outputs": [],
   "source": [
    "import requests\n",
    "import pandas as pd"
   ]
  },
  {
   "cell_type": "markdown",
   "metadata": {},
   "source": [
    "**Carico il Dataset (Load Dataset)**\n",
    "\n",
    "**Raccogliamo i dati della partita (we collect the shooting data for the game)**"
   ]
  },
  {
   "cell_type": "code",
   "execution_count": 58,
   "metadata": {},
   "outputs": [
    {
     "name": "stdout",
     "output_type": "stream",
     "text": [
      "200\n"
     ]
    }
   ],
   "source": [
    "\n",
    "url = \"https://live.euroleague.net/api/Points?gamecode=139&seasoncode=E2021\"\n",
    "r = requests.get(url)\n",
    "print(r.status_code)  \n",
    "data = r.json()\n",
    "shots_df = pd.DataFrame(data['Rows'])"
   ]
  },
  {
   "cell_type": "markdown",
   "metadata": {},
   "source": [
    "Se è andata a buon fine mi deve tornare 200 (if all goes well this must return 200)"
   ]
  },
  {
   "cell_type": "markdown",
   "metadata": {},
   "source": [
    "**Mostra l'anteprima del dataset (Show DataSet Preview)**"
   ]
  },
  {
   "cell_type": "code",
   "execution_count": 59,
   "metadata": {},
   "outputs": [
    {
     "data": {
      "text/html": [
       "<div>\n",
       "<style scoped>\n",
       "    .dataframe tbody tr th:only-of-type {\n",
       "        vertical-align: middle;\n",
       "    }\n",
       "\n",
       "    .dataframe tbody tr th {\n",
       "        vertical-align: top;\n",
       "    }\n",
       "\n",
       "    .dataframe thead th {\n",
       "        text-align: right;\n",
       "    }\n",
       "</style>\n",
       "<table border=\"1\" class=\"dataframe\">\n",
       "  <thead>\n",
       "    <tr style=\"text-align: right;\">\n",
       "      <th></th>\n",
       "      <th>NUM_ANOT</th>\n",
       "      <th>TEAM</th>\n",
       "      <th>ID_PLAYER</th>\n",
       "      <th>PLAYER</th>\n",
       "      <th>ID_ACTION</th>\n",
       "      <th>ACTION</th>\n",
       "      <th>POINTS</th>\n",
       "      <th>COORD_X</th>\n",
       "      <th>COORD_Y</th>\n",
       "      <th>ZONE</th>\n",
       "      <th>FASTBREAK</th>\n",
       "      <th>SECOND_CHANCE</th>\n",
       "      <th>POINTS_OFF_TURNOVER</th>\n",
       "      <th>MINUTE</th>\n",
       "      <th>CONSOLE</th>\n",
       "      <th>POINTS_A</th>\n",
       "      <th>POINTS_B</th>\n",
       "      <th>UTC</th>\n",
       "    </tr>\n",
       "  </thead>\n",
       "  <tbody>\n",
       "    <tr>\n",
       "      <th>0</th>\n",
       "      <td>6</td>\n",
       "      <td>MAD</td>\n",
       "      <td>P007982</td>\n",
       "      <td>WILLIAMS-GOSS, NIGEL</td>\n",
       "      <td>3FGM</td>\n",
       "      <td>Three Pointer</td>\n",
       "      <td>3</td>\n",
       "      <td>-31</td>\n",
       "      <td>759</td>\n",
       "      <td>H</td>\n",
       "      <td>0</td>\n",
       "      <td>0</td>\n",
       "      <td>0</td>\n",
       "      <td>1</td>\n",
       "      <td>09:32</td>\n",
       "      <td>0</td>\n",
       "      <td>3</td>\n",
       "      <td>20211216193052</td>\n",
       "    </tr>\n",
       "    <tr>\n",
       "      <th>1</th>\n",
       "      <td>7</td>\n",
       "      <td>MIL</td>\n",
       "      <td>P004331</td>\n",
       "      <td>DELANEY, MALCOLM</td>\n",
       "      <td>3FGA</td>\n",
       "      <td>Missed Three Pointer</td>\n",
       "      <td>0</td>\n",
       "      <td>169</td>\n",
       "      <td>696</td>\n",
       "      <td>I</td>\n",
       "      <td>0</td>\n",
       "      <td>0</td>\n",
       "      <td>0</td>\n",
       "      <td>1</td>\n",
       "      <td>09:13</td>\n",
       "      <td>0</td>\n",
       "      <td>3</td>\n",
       "      <td>20211216193111</td>\n",
       "    </tr>\n",
       "    <tr>\n",
       "      <th>2</th>\n",
       "      <td>9</td>\n",
       "      <td>MAD</td>\n",
       "      <td>P001392</td>\n",
       "      <td>CAUSEUR, FABIEN</td>\n",
       "      <td>2FGM</td>\n",
       "      <td>Two Pointer</td>\n",
       "      <td>2</td>\n",
       "      <td>69</td>\n",
       "      <td>81</td>\n",
       "      <td>C</td>\n",
       "      <td>1</td>\n",
       "      <td>0</td>\n",
       "      <td>0</td>\n",
       "      <td>1</td>\n",
       "      <td>09:07</td>\n",
       "      <td>0</td>\n",
       "      <td>5</td>\n",
       "      <td>20211216193118</td>\n",
       "    </tr>\n",
       "    <tr>\n",
       "      <th>3</th>\n",
       "      <td>12</td>\n",
       "      <td>MIL</td>\n",
       "      <td>P002812</td>\n",
       "      <td>HINES, KYLE</td>\n",
       "      <td>2FGA</td>\n",
       "      <td>Missed Two Pointer</td>\n",
       "      <td>0</td>\n",
       "      <td>495</td>\n",
       "      <td>169</td>\n",
       "      <td>G</td>\n",
       "      <td>0</td>\n",
       "      <td>0</td>\n",
       "      <td>0</td>\n",
       "      <td>2</td>\n",
       "      <td>08:39</td>\n",
       "      <td>0</td>\n",
       "      <td>5</td>\n",
       "      <td>20211216193146</td>\n",
       "    </tr>\n",
       "    <tr>\n",
       "      <th>4</th>\n",
       "      <td>19</td>\n",
       "      <td>MIL</td>\n",
       "      <td>P007831</td>\n",
       "      <td>SHIELDS, SHAVON</td>\n",
       "      <td>2FGM</td>\n",
       "      <td>Two Pointer</td>\n",
       "      <td>2</td>\n",
       "      <td>-56</td>\n",
       "      <td>225</td>\n",
       "      <td>D</td>\n",
       "      <td>0</td>\n",
       "      <td>0</td>\n",
       "      <td>1</td>\n",
       "      <td>2</td>\n",
       "      <td>08:13</td>\n",
       "      <td>2</td>\n",
       "      <td>5</td>\n",
       "      <td>20211216193257</td>\n",
       "    </tr>\n",
       "  </tbody>\n",
       "</table>\n",
       "</div>"
      ],
      "text/plain": [
       "   NUM_ANOT        TEAM   ID_PLAYER                PLAYER ID_ACTION  \\\n",
       "0         6  MAD         P007982     WILLIAMS-GOSS, NIGEL      3FGM   \n",
       "1         7  MIL         P004331         DELANEY, MALCOLM      3FGA   \n",
       "2         9  MAD         P001392          CAUSEUR, FABIEN      2FGM   \n",
       "3        12  MIL         P002812              HINES, KYLE      2FGA   \n",
       "4        19  MIL         P007831          SHIELDS, SHAVON      2FGM   \n",
       "\n",
       "                 ACTION  POINTS  COORD_X  COORD_Y ZONE FASTBREAK  \\\n",
       "0         Three Pointer       3      -31      759    H         0   \n",
       "1  Missed Three Pointer       0      169      696    I         0   \n",
       "2           Two Pointer       2       69       81    C         1   \n",
       "3    Missed Two Pointer       0      495      169    G         0   \n",
       "4           Two Pointer       2      -56      225    D         0   \n",
       "\n",
       "  SECOND_CHANCE POINTS_OFF_TURNOVER  MINUTE CONSOLE  POINTS_A  POINTS_B  \\\n",
       "0             0                   0       1   09:32         0         3   \n",
       "1             0                   0       1   09:13         0         3   \n",
       "2             0                   0       1   09:07         0         5   \n",
       "3             0                   0       2   08:39         0         5   \n",
       "4             0                   1       2   08:13         2         5   \n",
       "\n",
       "              UTC  \n",
       "0  20211216193052  \n",
       "1  20211216193111  \n",
       "2  20211216193118  \n",
       "3  20211216193146  \n",
       "4  20211216193257  "
      ]
     },
     "execution_count": 59,
     "metadata": {},
     "output_type": "execute_result"
    }
   ],
   "source": [
    "shots_df.head()\n"
   ]
  },
  {
   "cell_type": "markdown",
   "metadata": {},
   "source": [
    "**Disegnamo un campo da basket FIBA usando matplot (Draw a FIBA basketball court using matplot)**\n",
    "\n",
    "Creiamo:\n",
    "1. Canestro (Create the basketball hoop)\n",
    "1. Tabellone (Create backboard)\n",
    "1. L'esterno del box (Create the outer box of the paint)\n",
    "1. L'interno del box (Create the inner box of the paint)\n",
    "1. Arco tiro libero (Create free throw top arc)\n",
    "1. Arco inferiore del tiro libero (Create free throw bottom arc)\n",
    "1. Arco per zona sfondamento (Restricted Zone)\n",
    "1. Linee angolo linea da 3 punti (Three point line, Create the side 3pt lines)\n",
    "1. Arco 3 punti (3pt arc) \n",
    "1. Arco al centro del campo (Center Court)\n",
    "1. Lista con tutti gli elementi del campo \n",
    "1. Linea di metà campo, linea di base e le linee laterali (Draw the half court line, baseline and side out bound lines)\n",
    "1. Aggiungere gli elementi negli assi (Add the court elements onto the axis)\n",
    " "
   ]
  },
  {
   "cell_type": "code",
   "execution_count": 60,
   "metadata": {},
   "outputs": [],
   "source": [
    "from matplotlib import pyplot as plt\n",
    "from matplotlib.patches import Circle, Rectangle, Arc\n",
    "\n",
    "\n",
    "def draw_court(ax=None, color='black', lw=1, linee=True):\n",
    "    \"\"\"\n",
    "    FIBA basketball court dimensions:\n",
    "    https://www.msfsports.com.au/basketball-court-dimensions/\n",
    "    It seems like the Euroleauge API returns the shooting positions\n",
    "    in resolution of 1cm x 1cm.\n",
    "    \"\"\"\n",
    "    \n",
    "    if ax is None:\n",
    "        ax = plt.gca()\n",
    "\n",
    "    canestro = Circle((0, 0), radius=45.72 / 2, linewidth=lw, color=color,\n",
    "                  fill=False)\n",
    "\n",
    "    tabellone = Rectangle((-90, -157.5 + 120), 180, -1, linewidth=lw,\n",
    "                          color=color)\n",
    "\n",
    "    esterno = Rectangle((-490 / 2, -157.5), 490, 580, linewidth=lw,\n",
    "                          color=color, fill=False)\n",
    "    \n",
    "    interno = Rectangle((-360 / 2, -157.5), 360, 580, linewidth=lw,\n",
    "                          color=color, fill=False)\n",
    "\n",
    "    arc_tiro_lib = Arc((0, 580 - 157.5), 360, 360, theta1=0, theta2=180,\n",
    "                         linewidth=lw, color=color, fill=False)\n",
    "\n",
    "    arc_inf_tiro_lib = Arc((0, 580 - 157.5), 360, 360, theta1=180, theta2=0,\n",
    "                            linewidth=lw, color=color, linestyle='dashed')\n",
    "    \n",
    "    arc_sfond = Arc((0, 0), 2 * 125, 2 * 125, theta1=0, theta2=180,\n",
    "                     linewidth=lw, color=color)\n",
    "\n",
    "    angolo_tre_a = Rectangle((-750 + 90, -157.5), 0, 305, linewidth=lw,\n",
    "                               color=color)\n",
    "    angolo_tre_b = Rectangle((750 - 90, -157.5), 0, 305, linewidth=lw,\n",
    "                               color=color)\n",
    "  \n",
    "    arc_tre = Arc((0, 0), 2 * 675, 2 * 675, theta1=12, theta2=167.5,\n",
    "                    linewidth=lw, color=color)\n",
    "\n",
    "    arc_centrale = Arc((0, 1400-157.5), 2 * 180, 2 * 180, theta1=180,\n",
    "                           theta2=0, linewidth=lw, color=color)\n",
    "\n",
    "    elementi_campo = [canestro, tabellone, esterno, interno,\n",
    "                      arc_sfond, arc_tiro_lib, arc_inf_tiro_lib,\n",
    "                      angolo_tre_a, angolo_tre_b, arc_tre,\n",
    "                      arc_centrale]\n",
    "    if linee:\n",
    "        \n",
    "        linee = Rectangle((-750, -157.5), 1500, 1400, linewidth=lw,\n",
    "                                color=color, fill=False)\n",
    "        elementi_campo.append(linee)\n",
    "\n",
    "    for element in elementi_campo:\n",
    "        ax.add_patch(element)\n",
    "\n",
    "    return ax"
   ]
  },
  {
   "cell_type": "markdown",
   "metadata": {},
   "source": [
    "**Creazione ShotChart (The shot charts)**\n",
    "\n",
    "1. Scatter plot dei tiri messi e sbagliati (Scatter plot of made and missed shots)\n",
    "1. Grafico delle densità dei tiri (Density plot of shots)"
   ]
  },
  {
   "cell_type": "code",
   "execution_count": 61,
   "metadata": {},
   "outputs": [],
   "source": [
    "\n",
    "import matplotlib.pyplot as plt\n",
    "import seaborn as sns\n",
    "\n",
    "\n",
    "def plot_scatter(made, miss, title=None):\n",
    "    plt.figure(figsize=(5, 4.7))\n",
    "    draw_court()\n",
    "    plt.plot(made['COORD_X'], made['COORD_Y'], 'o', label='Made')\n",
    "    plt.plot(miss['COORD_X'], miss['COORD_Y'], 'x', markerfacecolor='none',\n",
    "             label='Missed')\n",
    "    plt.legend()\n",
    "    plt.xlim([-800, 800])\n",
    "    plt.ylim([-200, 1300])\n",
    "    plt.title(title)\n",
    "    plt.show()\n",
    "    return\n",
    "\n",
    "\n",
    "def joint_plot(df, kind='hex', title=None):\n",
    "    cmap = plt.cm.gist_heat_r\n",
    "    joint_shot_chart = sns.jointplot(x=df['COORD_X'], y=df['COORD_Y'],\n",
    "                                     kind='hex', space=0, color=cmap(.2),\n",
    "                                     cmap=cmap, joint_kws={\"gridsize\": 15})\n",
    "\n",
    "    ax = joint_shot_chart.ax_joint\n",
    "    draw_court(ax)\n",
    "    plt.xlim([-800, 800])\n",
    "    plt.ylim([-200, 1300])\n",
    "    plt.title(title)\n",
    "    plt.show()\n",
    "    return"
   ]
  },
  {
   "cell_type": "markdown",
   "metadata": {},
   "source": [
    "Divisione dei tiri delle 2 squadre (split the home and away teams, their made and missed shots)"
   ]
  },
  {
   "cell_type": "code",
   "execution_count": 62,
   "metadata": {},
   "outputs": [],
   "source": [
    "shots_df['TEAM'] = shots_df['TEAM'].str.strip() \n",
    "shots_df['ID_PLAYER'] = shots_df['ID_PLAYER'].str.strip()  \n",
    "\n",
    "home_df = shots_df[shots_df['TEAM'] == 'MIL']\n",
    "fg_made_home_df = home_df[home_df['ID_ACTION'].isin(['2FGM', '3FGM'])]\n",
    "fg_miss_home_df = home_df[home_df['ID_ACTION'].isin(['2FGA', '3FGA'])]\n",
    "\n",
    "away_df = shots_df[shots_df['TEAM'] == 'MAD']\n",
    "fg_made_away_df = away_df[away_df['ID_ACTION'].isin(['2FGM', '3FGM'])]\n",
    "fg_miss_away_df = away_df[away_df['ID_ACTION'].isin(['2FGA', '3FGA'])]\n",
    "\n",
    "\n"
   ]
  },
  {
   "cell_type": "markdown",
   "metadata": {},
   "source": [
    "**Grafico tiri Olimpia Milano (scatter shot chart of MILs)**"
   ]
  },
  {
   "cell_type": "code",
   "execution_count": 25,
   "metadata": {},
   "outputs": [
    {
     "data": {
      "image/png": "[encoded data removed]",
      "text/plain": [
       "<Figure size 360x338.4 with 1 Axes>"
      ]
     },
     "metadata": {
      "needs_background": "light"
     },
     "output_type": "display_data"
    }
   ],
   "source": [
    "\n",
    "plot_scatter(fg_made_home_df, fg_miss_home_df, title='Grafico tiri Olimpia Milano')\n",
    "\n"
   ]
  }
 ],
 "metadata": {
  "kernelspec": {
   "display_name": "Python 3.8.5 64-bit",
   "language": "python",
   "name": "python3"
  },
  "language_info": {
   "codemirror_mode": {
    "name": "ipython",
    "version": 3
   },
   "file_extension": ".py",
   "mimetype": "text/x-python",
   "name": "python",
   "nbconvert_exporter": "python",
   "pygments_lexer": "ipython3",
   "version": "3.8.5"
  },
  "orig_nbformat": 4,
  "vscode": {
   "interpreter": {
    "hash": "ad77771add2c6521a9c58305fe4e03ccddeeb1fe739e6aac815f1fb97839e098"
   }
  }
 },
 "nbformat": 4,
 "nbformat_minor": 2
}
